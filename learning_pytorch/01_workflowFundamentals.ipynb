{
 "cells": [
  {
   "cell_type": "code",
   "execution_count": 1,
   "id": "736021be",
   "metadata": {},
   "outputs": [],
   "source": [
    "what_were_covering = {1: \"data (prepare and load)\",\n",
    "    2: \"build model\",\n",
    "    3: \"fitting the model to data (training)\",\n",
    "    4: \"making predictions and evaluating a model (inference)\",\n",
    "    5: \"saving and loading a model\",\n",
    "    6: \"putting it all together\"\n",
    "}"
   ]
  },
  {
   "cell_type": "code",
   "execution_count": 2,
   "id": "698b100a",
   "metadata": {},
   "outputs": [
    {
     "data": {
      "text/plain": [
       "'2.7.1+cu126'"
      ]
     },
     "execution_count": 2,
     "metadata": {},
     "output_type": "execute_result"
    }
   ],
   "source": [
    "import torch\n",
    "from torch import nn\n",
    "import matplotlib.pyplot as plt\n",
    "\n",
    "torch.__version__"
   ]
  },
  {
   "cell_type": "code",
   "execution_count": 6,
   "id": "75a03713",
   "metadata": {},
   "outputs": [
    {
     "data": {
      "text/plain": [
       "(tensor([[0.0000],\n",
       "         [0.0200],\n",
       "         [0.0400],\n",
       "         [0.0600],\n",
       "         [0.0800]]),\n",
       " tensor([[0.3000],\n",
       "         [0.3140],\n",
       "         [0.3280],\n",
       "         [0.3420],\n",
       "         [0.3560]]))"
      ]
     },
     "execution_count": 6,
     "metadata": {},
     "output_type": "execute_result"
    }
   ],
   "source": [
    "# Create *known* parameters\n",
    "weight = 0.7\n",
    "bias = 0.3\n",
    "\n",
    "# Create data\n",
    "start = 0\n",
    "end = 1\n",
    "step = 0.02\n",
    "\n",
    "X = torch.arange(start, end, step).unsqueeze(dim=1)\n",
    "y = weight*X +bias\n",
    "X.shape\n",
    "X[:5], y[:5]"
   ]
  },
  {
   "cell_type": "code",
   "execution_count": 10,
   "id": "e2702a20",
   "metadata": {},
   "outputs": [
    {
     "data": {
      "text/plain": [
       "tensor([[0.9000],\n",
       "        [0.9200],\n",
       "        [0.9400],\n",
       "        [0.9600],\n",
       "        [0.9800]])"
      ]
     },
     "execution_count": 10,
     "metadata": {},
     "output_type": "execute_result"
    }
   ],
   "source": [
    "X[45:]"
   ]
  },
  {
   "cell_type": "code",
   "execution_count": 7,
   "id": "5d8df04b",
   "metadata": {},
   "outputs": [
    {
     "data": {
      "text/plain": [
       "50"
      ]
     },
     "execution_count": 7,
     "metadata": {},
     "output_type": "execute_result"
    }
   ],
   "source": [
    "len(X)"
   ]
  },
  {
   "cell_type": "code",
   "execution_count": 13,
   "id": "6c20ddc1",
   "metadata": {},
   "outputs": [
    {
     "data": {
      "text/plain": [
       "(40, 10, 40, 10)"
      ]
     },
     "execution_count": 13,
     "metadata": {},
     "output_type": "execute_result"
    }
   ],
   "source": [
    "train_split = int(0.8 *len(X))\n",
    "X_train , y_train = X[:train_split], y[:train_split]\n",
    "X_test, y_test = X[train_split:], y[train_split:]\n",
    "\n",
    "len(X_train), len(X_test), len(y_train), len(y_test)"
   ]
  },
  {
   "cell_type": "code",
   "execution_count": 19,
   "id": "fc8ef67c",
   "metadata": {},
   "outputs": [
    {
     "data": {
      "image/png": "[encoded data removed]",
      "text/plain": [
       "<Figure size 700x700 with 1 Axes>"
      ]
     },
     "metadata": {},
     "output_type": "display_data"
    }
   ],
   "source": [
    "def plot_predictions (train_data=X_train, \n",
    "                      test_data=X_test, \n",
    "                      train_labels=y_train, \n",
    "                      test_labels=y_test, \n",
    "                      predictions=None):\n",
    "    plt.figure(figsize=(7,7))\n",
    "     # Plot training data in blue\n",
    "    plt.scatter(train_data, train_labels, c=\"b\", s=100, label=\"Training data\")\n",
    "    # Plot test data in green\n",
    "    plt.scatter(test_data, test_labels, c=\"g\", s=40, label=\"Testing data\")\n",
    "    if predictions is not None:\n",
    "        # Plot the predictions in red (predictions were made on the test data)\n",
    "        plt.scatter(test_data, predictions, c=\"r\", s=4, label=\"Predictions\")\n",
    "\n",
    "    # Show the legend\n",
    "    plt.legend(prop={\"size\": 14})\n",
    "    \n",
    "plot_predictions()"
   ]
  },
  {
   "cell_type": "code",
   "execution_count": 22,
   "id": "bc2c784d",
   "metadata": {},
   "outputs": [
    {
     "data": {
      "text/plain": [
       "(Parameter containing:\n",
       " tensor([0.3367], requires_grad=True),\n",
       " [Parameter containing:\n",
       "  tensor([0.3367], requires_grad=True),\n",
       "  Parameter containing:\n",
       "  tensor([0.3904], requires_grad=True)],\n",
       " OrderedDict([('weights', tensor([0.3367])), ('bias', tensor([0.3904]))]))"
      ]
     },
     "execution_count": 22,
     "metadata": {},
     "output_type": "execute_result"
    }
   ],
   "source": [
    "class LinearRegressionModel(nn.Module):\n",
    "    def __init__(self):\n",
    "        super().__init__()\n",
    "        self.weights = nn.Parameter(torch.randn(1, \n",
    "                                                dtype = torch.float,\n",
    "                                                requires_grad=True))\n",
    "        self.bias = nn.Parameter(torch.rand(1,\n",
    "                                            dtype= torch.float, \n",
    "                                            requires_grad=True))\n",
    "    \n",
    "    def forward(self, x:torch.Tensor):\n",
    "        return self.weights*x + self.bias\n",
    "   \n",
    "torch.manual_seed(42)\n",
    "model = LinearRegressionModel()\n",
    "model.weights , list(model.parameters()), model.state_dict()"
   ]
  },
  {
   "cell_type": "code",
   "execution_count": 23,
   "id": "54a18dbc",
   "metadata": {},
   "outputs": [],
   "source": [
    "with torch.inference_mode():\n",
    "    y_preds = model.forward(X_test)"
   ]
  },
  {
   "cell_type": "code",
   "execution_count": 25,
   "id": "a831b2e9",
   "metadata": {},
   "outputs": [
    {
     "data": {
      "image/png": "[encoded data removed]",
      "text/plain": [
       "<Figure size 700x700 with 1 Axes>"
      ]
     },
     "metadata": {},
     "output_type": "display_data"
    }
   ],
   "source": [
    "plot_predictions(predictions=y_preds)"
   ]
  },
  {
   "cell_type": "code",
   "execution_count": 26,
   "id": "5c3c5b9e",
   "metadata": {},
   "outputs": [
    {
     "data": {
      "text/plain": [
       "tensor([[0.2002],\n",
       "        [0.2075],\n",
       "        [0.2147],\n",
       "        [0.2220],\n",
       "        [0.2293],\n",
       "        [0.2365],\n",
       "        [0.2438],\n",
       "        [0.2511],\n",
       "        [0.2583],\n",
       "        [0.2656]])"
      ]
     },
     "execution_count": 26,
     "metadata": {},
     "output_type": "execute_result"
    }
   ],
   "source": [
    "y_test - y_preds"
   ]
  },
  {
   "cell_type": "code",
   "execution_count": 28,
   "id": "2d769da0",
   "metadata": {},
   "outputs": [],
   "source": [
    "# Create the loss function\n",
    "loss_fn = nn.L1Loss()\n",
    "\n",
    "# Create the optimizer\n",
    "optimizer = torch.optim.SGD(\n",
    "    params=model.parameters(),\n",
    "    lr= 0.01\n",
    ")"
   ]
  },
  {
   "cell_type": "code",
   "execution_count": 35,
   "id": "df351fa7",
   "metadata": {},
   "outputs": [
    {
     "name": "stdout",
     "output_type": "stream",
     "text": [
      "Epoch: 0 | MAE Train Loss: 0.034646838903427124 | MAE Test Loss: 0.08051808178424835 \n",
      "Epoch: 10 | MAE Train Loss: 0.031217509880661964 | MAE Test Loss: 0.0722455382347107 \n",
      "Epoch: 20 | MAE Train Loss: 0.027778705582022667 | MAE Test Loss: 0.06397300213575363 \n",
      "Epoch: 30 | MAE Train Loss: 0.024344902485609055 | MAE Test Loss: 0.05638733506202698 \n",
      "Epoch: 40 | MAE Train Loss: 0.020913895219564438 | MAE Test Loss: 0.04811479523777962 \n",
      "Epoch: 50 | MAE Train Loss: 0.017475087195634842 | MAE Test Loss: 0.03984225541353226 \n",
      "Epoch: 60 | MAE Train Loss: 0.014042967930436134 | MAE Test Loss: 0.0322565920650959 \n",
      "Epoch: 70 | MAE Train Loss: 0.010610274039208889 | MAE Test Loss: 0.02398405596613884 \n",
      "Epoch: 80 | MAE Train Loss: 0.007171472068876028 | MAE Test Loss: 0.015711510553956032 \n",
      "Epoch: 90 | MAE Train Loss: 0.003741039428859949 | MAE Test Loss: 0.008125847205519676 \n",
      "Epoch: 100 | MAE Train Loss: 0.004964242689311504 | MAE Test Loss: 0.010411137714982033 \n",
      "Epoch: 110 | MAE Train Loss: 0.004964242689311504 | MAE Test Loss: 0.010411137714982033 \n",
      "Epoch: 120 | MAE Train Loss: 0.004964242689311504 | MAE Test Loss: 0.010411137714982033 \n",
      "Epoch: 130 | MAE Train Loss: 0.004964242689311504 | MAE Test Loss: 0.010411137714982033 \n",
      "Epoch: 140 | MAE Train Loss: 0.004964242689311504 | MAE Test Loss: 0.010411137714982033 \n",
      "Epoch: 150 | MAE Train Loss: 0.004964242689311504 | MAE Test Loss: 0.010411137714982033 \n",
      "Epoch: 160 | MAE Train Loss: 0.004964242689311504 | MAE Test Loss: 0.010411137714982033 \n",
      "Epoch: 170 | MAE Train Loss: 0.004964242689311504 | MAE Test Loss: 0.010411137714982033 \n",
      "Epoch: 180 | MAE Train Loss: 0.004964242689311504 | MAE Test Loss: 0.010411137714982033 \n",
      "Epoch: 190 | MAE Train Loss: 0.004964242689311504 | MAE Test Loss: 0.010411137714982033 \n"
     ]
    }
   ],
   "source": [
    "from torch import inference_mode\n",
    "\n",
    "\n",
    "torch.manual_seed(42)\n",
    "\n",
    "epochs = 200\n",
    "\n",
    "# Create empty loss lists to track values\n",
    "train_loss_values = []\n",
    "test_loss_values = []\n",
    "epoch_count = []\n",
    "\n",
    "for epoch in range(epochs):\n",
    "    ### Training\n",
    "    model.train()\n",
    "    y_pred = model.forward(X_train)\n",
    "    loss = loss_fn(y_pred, y_train)\n",
    "    optimizer.zero_grad()\n",
    "    loss.backward()\n",
    "    optimizer.step()\n",
    "    \n",
    "    ### Testing\n",
    "    with inference_mode():\n",
    "        test_pred = model.forward(X_test)\n",
    "        \n",
    "    test_loss = loss_fn(test_pred,y_test.type(torch.float))\n",
    "     # Print out what's happening\n",
    "    if epoch % 10 == 0:\n",
    "        epoch_count.append(epoch)\n",
    "        train_loss_values.append(loss.detach().numpy())\n",
    "        test_loss_values.append(test_loss.detach().numpy())\n",
    "        print(f\"Epoch: {epoch} | MAE Train Loss: {loss} | MAE Test Loss: {test_loss} \")"
   ]
  },
  {
   "cell_type": "code",
   "execution_count": 36,
   "id": "e40d28bd",
   "metadata": {},
   "outputs": [
    {
     "name": "stdout",
     "output_type": "stream",
     "text": [
      "The model learned the following values for weights and bias:\n",
      "OrderedDict({'weights': tensor([0.6962]), 'bias': tensor([0.3064])})\n",
      "\n",
      "And the original values for weights and bias are:\n",
      "weights: 0.7, bias: 0.3\n"
     ]
    }
   ],
   "source": [
    "# Find our model's learned parameters\n",
    "print(\"The model learned the following values for weights and bias:\")\n",
    "print(model.state_dict())\n",
    "print(\"\\nAnd the original values for weights and bias are:\")\n",
    "print(f\"weights: {weight}, bias: {bias}\")"
   ]
  },
  {
   "cell_type": "code",
   "execution_count": 38,
   "id": "14b5384b",
   "metadata": {},
   "outputs": [],
   "source": [
    "with inference_mode():\n",
    "    y_preds = model(X_test)"
   ]
  },
  {
   "cell_type": "code",
   "execution_count": 42,
   "id": "ff250af5",
   "metadata": {},
   "outputs": [
    {
     "data": {
      "text/plain": [
       "tensor([[True],\n",
       "        [True],\n",
       "        [True],\n",
       "        [True],\n",
       "        [True],\n",
       "        [True],\n",
       "        [True],\n",
       "        [True],\n",
       "        [True],\n",
       "        [True]])"
      ]
     },
     "execution_count": 42,
     "metadata": {},
     "output_type": "execute_result"
    }
   ],
   "source": [
    "y_preds == test_pred"
   ]
  },
  {
   "cell_type": "code",
   "execution_count": null,
   "id": "71a87ba4",
   "metadata": {},
   "outputs": [
    {
     "data": {
      "image/png": "[encoded data removed]",
      "text/plain": [
       "<Figure size 700x700 with 1 Axes>"
      ]
     },
     "metadata": {},
     "output_type": "display_data"
    }
   ],
   "source": [
    "plot_predictions(predictions= y_preds)"
   ]
  },
  {
   "cell_type": "code",
   "execution_count": 43,
   "id": "3e8733c0",
   "metadata": {},
   "outputs": [
    {
     "name": "stdout",
     "output_type": "stream",
     "text": [
      "Saving model to: models/01_pytorch_workflow_model_1.pth\n"
     ]
    }
   ],
   "source": [
    "from pathlib import Path\n",
    "\n",
    "# 1. Create models directory \n",
    "MODEL_PATH = Path(\"models\")\n",
    "MODEL_PATH.mkdir(parents=True, exist_ok=True)\n",
    "\n",
    "# 2. Create model save path \n",
    "MODEL_NAME = \"01_pytorch_workflow_model_1.pth\"\n",
    "MODEL_SAVE_PATH = MODEL_PATH / MODEL_NAME\n",
    "\n",
    "# 3. Save the model state dict \n",
    "print(f\"Saving model to: {MODEL_SAVE_PATH}\")\n",
    "torch.save(obj=model.state_dict(), # only saving the state_dict() only saves the models learned parameters\n",
    "           f=MODEL_SAVE_PATH) "
   ]
  },
  {
   "cell_type": "code",
   "execution_count": 48,
   "id": "9b8d56a6",
   "metadata": {},
   "outputs": [
    {
     "name": "stdout",
     "output_type": "stream",
     "text": [
      "Loaded model:\n",
      "LinearRegressionModel()\n",
      "Model on device:\n",
      "cpu\n"
     ]
    }
   ],
   "source": [
    "# Instantiate a fresh instance of LinearRegressionModelV2\n",
    "loaded_model_1 = LinearRegressionModel()\n",
    "\n",
    "# Load model state dict \n",
    "loaded_model_1.load_state_dict(torch.load(MODEL_SAVE_PATH))\n",
    "\n",
    "# Put model to target device (if your data is on GPU, model will have to be on GPU to make predictions)\n",
    "# loaded_model_1.to(device=\"cpu\")\n",
    "\n",
    "print(f\"Loaded model:\\n{loaded_model_1}\")\n",
    "print(f\"Model on device:\\n{next(loaded_model_1.parameters()).device}\")"
   ]
  },
  {
   "cell_type": "code",
   "execution_count": 49,
   "id": "8eb7a9be",
   "metadata": {},
   "outputs": [
    {
     "data": {
      "text/plain": [
       "tensor([[True],\n",
       "        [True],\n",
       "        [True],\n",
       "        [True],\n",
       "        [True],\n",
       "        [True],\n",
       "        [True],\n",
       "        [True],\n",
       "        [True],\n",
       "        [True]])"
      ]
     },
     "execution_count": 49,
     "metadata": {},
     "output_type": "execute_result"
    }
   ],
   "source": [
    "# Evaluate loaded model\n",
    "loaded_model_1.eval()\n",
    "with torch.inference_mode():\n",
    "    loaded_model_1_preds = loaded_model_1(X_test)\n",
    "y_preds == loaded_model_1_preds"
   ]
  },
  {
   "cell_type": "markdown",
   "id": "e394b77d",
   "metadata": {},
   "source": [
    "## trial"
   ]
  },
  {
   "cell_type": "code",
   "execution_count": 2,
   "id": "abf97c32",
   "metadata": {},
   "outputs": [],
   "source": [
    "import torch.nn as nn\n",
    "import torch\n",
    "import matplotlib.pyplot as plt\n",
    "import numpy as np"
   ]
  },
  {
   "cell_type": "code",
   "execution_count": 4,
   "id": "7ffd359f",
   "metadata": {},
   "outputs": [
    {
     "data": {
      "text/plain": [
       "tensor([0.0000, 0.0200, 0.0400, 0.0600, 0.0800, 0.1000, 0.1200, 0.1400, 0.1600,\n",
       "        0.1800, 0.2000, 0.2200, 0.2400, 0.2600, 0.2800, 0.3000, 0.3200, 0.3400,\n",
       "        0.3600, 0.3800, 0.4000, 0.4200, 0.4400, 0.4600, 0.4800, 0.5000, 0.5200,\n",
       "        0.5400, 0.5600, 0.5800, 0.6000, 0.6200, 0.6400, 0.6600, 0.6800, 0.7000,\n",
       "        0.7200, 0.7400, 0.7600, 0.7800, 0.8000, 0.8200, 0.8400, 0.8600, 0.8800,\n",
       "        0.9000, 0.9200, 0.9400, 0.9600, 0.9800])"
      ]
     },
     "execution_count": 4,
     "metadata": {},
     "output_type": "execute_result"
    }
   ],
   "source": [
    "weight = 0.7\n",
    "bias = 0.3\n",
    "\n",
    "#create data\n",
    "\n",
    "X = torch.arange(0,1, 0.02)\n",
    "X"
   ]
  },
  {
   "cell_type": "code",
   "execution_count": 5,
   "id": "37179bbc",
   "metadata": {},
   "outputs": [],
   "source": [
    "X = X.unsqueeze(dim=1)"
   ]
  },
  {
   "cell_type": "code",
   "execution_count": null,
   "id": "3de51c94",
   "metadata": {},
   "outputs": [],
   "source": [
    "y = weight * X + bias"
   ]
  },
  {
   "cell_type": "code",
   "execution_count": 10,
   "id": "f26274f9",
   "metadata": {},
   "outputs": [],
   "source": [
    "train_split = int(len(X)*0.8)\n",
    "X_train , y_train, X_test, y_test = X[:train_split], y[:train_split], X[train_split:], y[train_split:]"
   ]
  },
  {
   "cell_type": "code",
   "execution_count": 40,
   "id": "24c82f6a",
   "metadata": {},
   "outputs": [],
   "source": [
    "def generate_plot(X_train = X_train, y_train= y_train, X_test=X_test, y_test=y_test, predictions=None):\n",
    "    plt.figure(figsize=(10,10))\n",
    "    \n",
    "    plt.scatter(X_train, y_train, s=20, c='g')\n",
    "    \n",
    "    if predictions is not None:\n",
    "        plt.scatter(X_test, predictions, s=10, c='b')\n",
    "    plt.scatter(X_test, y_test, s=10, c='r')\n",
    "    \n",
    "    plt.show()"
   ]
  },
  {
   "cell_type": "code",
   "execution_count": 21,
   "id": "84f48765",
   "metadata": {},
   "outputs": [
    {
     "data": {
      "image/png": "[encoded data removed]",
      "text/plain": [
       "<Figure size 1000x1000 with 1 Axes>"
      ]
     },
     "metadata": {},
     "output_type": "display_data"
    }
   ],
   "source": [
    "generate_plot()"
   ]
  },
  {
   "cell_type": "code",
   "execution_count": 22,
   "id": "23d7a667",
   "metadata": {},
   "outputs": [
    {
     "data": {
      "text/plain": [
       "(40, 40, 10, 10)"
      ]
     },
     "execution_count": 22,
     "metadata": {},
     "output_type": "execute_result"
    }
   ],
   "source": [
    "len(X_train), len(y_train), len(X_test), len(y_test)"
   ]
  },
  {
   "cell_type": "code",
   "execution_count": 25,
   "id": "dfc032ad",
   "metadata": {},
   "outputs": [],
   "source": [
    "# Create a linear regression model class\n",
    "class LinearRegressionModel(nn.Module):\n",
    "    def __init__(self):\n",
    "        super().__init__()\n",
    "        self.weight = nn.Parameter(torch.rand(1,\n",
    "                                              requires_grad=True,\n",
    "                                              dtype= torch.float\n",
    "                                              ))\n",
    "        self.bias = nn.Parameter(torch.rand(1,\n",
    "                                            requires_grad=True,\n",
    "                                            dtype=torch.float\n",
    "                                            ))\n",
    "    def forward(self, X:torch.Tensor):\n",
    "        return self.weight*X + self.bias"
   ]
  },
  {
   "cell_type": "code",
   "execution_count": 47,
   "id": "369b734a",
   "metadata": {},
   "outputs": [],
   "source": [
    "torch.manual_seed(42)\n",
    "model = LinearRegressionModel()"
   ]
  },
  {
   "cell_type": "code",
   "execution_count": 48,
   "id": "e3556e9d",
   "metadata": {},
   "outputs": [
    {
     "data": {
      "text/plain": [
       "([Parameter containing:\n",
       "  tensor([0.8823], requires_grad=True),\n",
       "  Parameter containing:\n",
       "  tensor([0.9150], requires_grad=True)],\n",
       " OrderedDict([('weight', tensor([0.8823])), ('bias', tensor([0.9150]))]))"
      ]
     },
     "execution_count": 48,
     "metadata": {},
     "output_type": "execute_result"
    }
   ],
   "source": [
    "list(model.parameters()), model.state_dict()"
   ]
  },
  {
   "cell_type": "code",
   "execution_count": 49,
   "id": "55cf7738",
   "metadata": {},
   "outputs": [],
   "source": [
    "with torch.inference_mode():\n",
    "    y_pred= model(X_test)"
   ]
  },
  {
   "cell_type": "code",
   "execution_count": 50,
   "id": "a91db653",
   "metadata": {},
   "outputs": [
    {
     "data": {
      "image/png": "[encoded data removed]",
      "text/plain": [
       "<Figure size 1000x1000 with 1 Axes>"
      ]
     },
     "metadata": {},
     "output_type": "display_data"
    }
   ],
   "source": [
    "generate_plot(predictions = y_pred)"
   ]
  },
  {
   "cell_type": "code",
   "execution_count": 54,
   "id": "5428c0fa",
   "metadata": {},
   "outputs": [],
   "source": [
    "loss_fn = nn.L1Loss()\n",
    "optimizer = torch.optim.SGD(lr = 0.01,\n",
    "                            params = model.parameters(),)"
   ]
  },
  {
   "cell_type": "code",
   "execution_count": 57,
   "id": "17ff0578",
   "metadata": {},
   "outputs": [
    {
     "name": "stdout",
     "output_type": "stream",
     "text": [
      "Epoch: 0 | MAE Train Loss: 0.007095950655639172 | MAE Test Loss: 0.00754010071977973 \n",
      "Epoch: 10 | MAE Train Loss: 0.007095950655639172 | MAE Test Loss: 0.00754010071977973 \n",
      "Epoch: 20 | MAE Train Loss: 0.007095950655639172 | MAE Test Loss: 0.00754010071977973 \n",
      "Epoch: 30 | MAE Train Loss: 0.007095950655639172 | MAE Test Loss: 0.00754010071977973 \n",
      "Epoch: 40 | MAE Train Loss: 0.007095950655639172 | MAE Test Loss: 0.00754010071977973 \n",
      "Epoch: 50 | MAE Train Loss: 0.007095950655639172 | MAE Test Loss: 0.00754010071977973 \n",
      "Epoch: 60 | MAE Train Loss: 0.007095950655639172 | MAE Test Loss: 0.00754010071977973 \n",
      "Epoch: 70 | MAE Train Loss: 0.007095950655639172 | MAE Test Loss: 0.00754010071977973 \n",
      "Epoch: 80 | MAE Train Loss: 0.007095950655639172 | MAE Test Loss: 0.00754010071977973 \n",
      "Epoch: 90 | MAE Train Loss: 0.007095950655639172 | MAE Test Loss: 0.00754010071977973 \n"
     ]
    }
   ],
   "source": [
    "epochs = 100\n",
    "train_loss_values =[]\n",
    "test_loss_values =[]\n",
    "epoch_count = []\n",
    "for epoch in range(epochs):\n",
    "    model.train()\n",
    "    y_pred= model(X_train)\n",
    "    loss = loss_fn(y_pred, y_train)\n",
    "    optimizer.zero_grad()\n",
    "    loss.backward()\n",
    "    optimizer.step()\n",
    "    \n",
    "    model.eval()\n",
    "    \n",
    "    with torch.inference_mode():\n",
    "        test_pred = model(X_test)\n",
    "        \n",
    "    test_loss = loss_fn(test_pred, y_test,)\n",
    "    \n",
    "    if epoch % 10 ==0:\n",
    "        epoch_count.append(epoch)\n",
    "        train_loss_values.append(loss.detach().numpy())\n",
    "        test_loss_values.append(test_loss.detach().numpy())\n",
    "        print(f\"Epoch: {epoch} | MAE Train Loss: {loss} | MAE Test Loss: {test_loss} \")\n",
    "\n",
    "    \n",
    "    "
   ]
  },
  {
   "cell_type": "code",
   "execution_count": 61,
   "id": "af9b7ede",
   "metadata": {},
   "outputs": [
    {
     "data": {
      "text/plain": [
       "[Parameter containing:\n",
       " tensor([0.6977], requires_grad=True),\n",
       " Parameter containing:\n",
       " tensor([0.3080], requires_grad=True)]"
      ]
     },
     "execution_count": 61,
     "metadata": {},
     "output_type": "execute_result"
    }
   ],
   "source": [
    "list(model.parameters())"
   ]
  },
  {
   "cell_type": "code",
   "execution_count": 60,
   "id": "e1383840",
   "metadata": {},
   "outputs": [
    {
     "data": {
      "image/png": "[encoded data removed]",
      "text/plain": [
       "<Figure size 1000x1000 with 1 Axes>"
      ]
     },
     "metadata": {},
     "output_type": "display_data"
    }
   ],
   "source": [
    "with torch.inference_mode():\n",
    "    y_pred = model(X_test)\n",
    "    \n",
    "generate_plot(predictions= y_pred)"
   ]
  },
  {
   "cell_type": "code",
   "execution_count": 62,
   "id": "54ff57be",
   "metadata": {},
   "outputs": [],
   "source": [
    "torch.save(obj=model.state_dict(),\n",
    "           f='model_Linear.pth')"
   ]
  },
  {
   "cell_type": "code",
   "execution_count": 63,
   "id": "dd14251d",
   "metadata": {},
   "outputs": [
    {
     "data": {
      "text/plain": [
       "<All keys matched successfully>"
      ]
     },
     "execution_count": 63,
     "metadata": {},
     "output_type": "execute_result"
    }
   ],
   "source": [
    "model_1 = LinearRegressionModel()\n",
    "\n",
    "model_1.load_state_dict(torch.load(f='model_Linear.pth'))"
   ]
  },
  {
   "cell_type": "code",
   "execution_count": 66,
   "id": "5f2b5e44",
   "metadata": {},
   "outputs": [],
   "source": [
    "with torch.inference_mode():\n",
    "    y_prid = model_1(X_test)\n",
    "    "
   ]
  },
  {
   "cell_type": "code",
   "execution_count": 67,
   "id": "6f7b3d21",
   "metadata": {},
   "outputs": [
    {
     "data": {
      "text/plain": [
       "tensor([[True],\n",
       "        [True],\n",
       "        [True],\n",
       "        [True],\n",
       "        [True],\n",
       "        [True],\n",
       "        [True],\n",
       "        [True],\n",
       "        [True],\n",
       "        [True]])"
      ]
     },
     "execution_count": 67,
     "metadata": {},
     "output_type": "execute_result"
    }
   ],
   "source": [
    "y_prid == y_pred"
   ]
  },
  {
   "cell_type": "code",
   "execution_count": null,
   "id": "7a62f728",
   "metadata": {},
   "outputs": [],
   "source": []
  }
 ],
 "metadata": {
  "kernelspec": {
   "display_name": "globalenv",
   "language": "python",
   "name": "python3"
  },
  "language_info": {
   "codemirror_mode": {
    "name": "ipython",
    "version": 3
   },
   "file_extension": ".py",
   "mimetype": "text/x-python",
   "name": "python",
   "nbconvert_exporter": "python",
   "pygments_lexer": "ipython3",
   "version": "3.12.3"
  }
 },
 "nbformat": 4,
 "nbformat_minor": 5
}
