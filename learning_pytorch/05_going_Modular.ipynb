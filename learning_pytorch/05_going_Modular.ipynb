{
 "cells": [
  {
   "cell_type": "code",
   "execution_count": 1,
   "id": "d94f4808",
   "metadata": {},
   "outputs": [
    {
     "name": "stdout",
     "output_type": "stream",
     "text": [
      "Overwriting going_modular/data_setup.py\n"
     ]
    }
   ],
   "source": [
    "%%writefile going_modular/data_setup.py\n",
    "\n",
    "from torchvision import datasets, transforms\n",
    "from torch.utils.data import DataLoader\n",
    "import os\n",
    "\n",
    "NUM_WORKER = os.cpu_count()\n",
    "\n",
    "def create_dataloader(\n",
    "    train_dir: str,\n",
    "    test_dir: str,\n",
    "    transforms: transforms.Compose,\n",
    "    batch_size: int,\n",
    "):\n",
    "    train_data = datasets.ImageFolder(\n",
    "        root = train_dir,\n",
    "        transform = transforms,\n",
    "        ) \n",
    "    test_data = datasets.ImageFolder(\n",
    "        root = test_dir,\n",
    "        transform = transforms\n",
    "    )\n",
    "    \n",
    "    \n",
    "    class_names = train_data.classes\n",
    "    \n",
    "    train_dataloader = DataLoader(\n",
    "        dataset= train_data,\n",
    "        batch_size= batch_size,\n",
    "        shuffle= True,\n",
    "        num_workers= NUM_WORKER,\n",
    "        pin_memory= True\n",
    "    )\n",
    "    \n",
    "    test_dataloader = DataLoader(\n",
    "        dataset=test_data,\n",
    "        batch_size=batch_size,\n",
    "        shuffle=True,\n",
    "        num_workers=NUM_WORKER,\n",
    "        pin_memory=True\n",
    "    )\n",
    "    \n",
    "    return train_dataloader, test_dataloader, class_names"
   ]
  },
  {
   "cell_type": "code",
   "execution_count": 1,
   "id": "0e2c5741",
   "metadata": {},
   "outputs": [],
   "source": [
    "import torch\n",
    "import torch.nn as nn\n",
    "\n",
    "class TinyVGG(nn.Module):\n",
    "    def __init__(self, in_channels:int, out_shape:int, hidden_units:int):\n",
    "        super().__init__()\n",
    "        self.conv_block_1 = nn.Sequential(\n",
    "            nn.Conv2d(in_channels=in_channels,\n",
    "                      out_channels=hidden_units,\n",
    "                      kernel_size=3,\n",
    "                      stride=1,\n",
    "                      padding=1),\n",
    "            nn.BatchNorm2d(num_features=hidden_units),\n",
    "            nn.ReLU(),\n",
    "            nn.Conv2d(in_channels=hidden_units,\n",
    "                      out_channels=hidden_units,\n",
    "                      kernel_size=3,\n",
    "                      stride = 1,\n",
    "                      padding=1),\n",
    "            nn.BatchNorm2d(num_features=hidden_units),\n",
    "            nn.ReLU(),\n",
    "            nn.MaxPool2d(kernel_size=2,\n",
    "                         stride = 2))\n",
    "        self.conv_block_2 = nn.Sequential(\n",
    "          nn.Conv2d(hidden_units, hidden_units, kernel_size=3, padding=0),\n",
    "          nn.ReLU(),\n",
    "          nn.Conv2d(hidden_units, hidden_units, kernel_size=3, padding=0),\n",
    "          nn.ReLU(),\n",
    "          nn.MaxPool2d(2)\n",
    "        )\n",
    "        self.classifier = nn.Sequential(\n",
    "            nn.Flatten(),\n",
    "            nn.Linear(in_features=hidden_units*13*13,\n",
    "                      out_features=out_shape)\n",
    "        )\n",
    "        \n",
    "    def forward(self, X):\n",
    "        X = self.conv_block_1(X),\n",
    "        # X = self.conv_block_2(X)\n",
    "        # X = self.classifier(X)\n",
    "        return X"
   ]
  },
  {
   "cell_type": "code",
   "execution_count": 2,
   "id": "7bc9e52f",
   "metadata": {},
   "outputs": [],
   "source": [
    "a = torch.randn((32,3, 64, 64))"
   ]
  },
  {
   "cell_type": "code",
   "execution_count": 3,
   "id": "eeb1eddb",
   "metadata": {},
   "outputs": [],
   "source": [
    "y = TinyVGG(3,4,8)"
   ]
  },
  {
   "cell_type": "code",
   "execution_count": 4,
   "id": "41c8c768",
   "metadata": {},
   "outputs": [],
   "source": [
    "y_pred = y(a)"
   ]
  },
  {
   "cell_type": "code",
   "execution_count": 9,
   "id": "bfb52600",
   "metadata": {},
   "outputs": [],
   "source": [
    "a=y_pred"
   ]
  },
  {
   "cell_type": "code",
   "execution_count": null,
   "id": "8cd107c9",
   "metadata": {},
   "outputs": [],
   "source": []
  }
 ],
 "metadata": {
  "kernelspec": {
   "display_name": "globalenv",
   "language": "python",
   "name": "python3"
  },
  "language_info": {
   "codemirror_mode": {
    "name": "ipython",
    "version": 3
   },
   "file_extension": ".py",
   "mimetype": "text/x-python",
   "name": "python",
   "nbconvert_exporter": "python",
   "pygments_lexer": "ipython3",
   "version": "3.12.3"
  }
 },
 "nbformat": 4,
 "nbformat_minor": 5
}
