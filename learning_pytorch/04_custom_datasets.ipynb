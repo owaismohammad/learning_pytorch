{
 "cells": [
  {
   "cell_type": "code",
   "execution_count": 1,
   "id": "318e727d",
   "metadata": {},
   "outputs": [],
   "source": [
    "import torch\n",
    "from torch.utils.data import Dataset\n",
    "import torch.nn as nn "
   ]
  },
  {
   "cell_type": "code",
   "execution_count": 2,
   "id": "5a844538",
   "metadata": {},
   "outputs": [
    {
     "data": {
      "text/plain": [
       "'2.7.1+cu126'"
      ]
     },
     "execution_count": 2,
     "metadata": {},
     "output_type": "execute_result"
    }
   ],
   "source": [
    "torch.__version__"
   ]
  },
  {
   "cell_type": "code",
   "execution_count": 3,
   "id": "5c3b3f6c",
   "metadata": {},
   "outputs": [
    {
     "name": "stdout",
     "output_type": "stream",
     "text": [
      "data/pizza_steak_sushi directory exists\n"
     ]
    }
   ],
   "source": [
    "from pathlib import Path\n",
    "\n",
    "data_path = Path(\"data\")\n",
    "image_path = data_path / \"pizza_steak_sushi\"\n",
    "\n",
    "if image_path.is_dir():\n",
    "    print(f\"{image_path} directory exists\")\n",
    "else:\n",
    "    print(f\"{image_path} directory does not exist, creating one...\")\n",
    "    image_path.mkdir(parents = True, exist_ok= True)"
   ]
  },
  {
   "cell_type": "code",
   "execution_count": null,
   "id": "fe16c9be",
   "metadata": {},
   "outputs": [
    {
     "name": "stdout",
     "output_type": "stream",
     "text": [
      "Downloading pizza_steak_sushi.zip\n"
     ]
    }
   ],
   "source": [
    "import requests\n",
    "url = \"https://github.com/mrdbourke/pytorch-deep-learning/raw/main/data/pizza_steak_sushi.zip\"\n",
    "\n",
    "# Download the file\n",
    "response = requests.get(url)\n",
    "print(\"Downloading pizza_steak_sushi.zip\")\n",
    "\n",
    "# Save it to a file\n",
    "with open(data_path / \"pizza_steak_sushi.zip\", \"wb\") as f:\n",
    "    f.write(response.content)\n"
   ]
  },
  {
   "cell_type": "code",
   "execution_count": 21,
   "id": "d6c4d9c7",
   "metadata": {},
   "outputs": [
    {
     "name": "stdout",
     "output_type": "stream",
     "text": [
      "Unzipping pizza, steak, sushi data...\n"
     ]
    }
   ],
   "source": [
    "import zipfile\n",
    "\n",
    "with zipfile.ZipFile(image_path/ \"pizza_steak_sushi.zip\",\"r\") as zip_ref:\n",
    "    print(\"Unzipping pizza, steak, sushi data...\") \n",
    "    zip_ref.extractall(image_path)    "
   ]
  },
  {
   "cell_type": "code",
   "execution_count": 4,
   "id": "de817e18",
   "metadata": {},
   "outputs": [],
   "source": [
    "import os \n",
    "def walk_through_dir(root):\n",
    "    for root, directory, files in os.walk(top=root, topdown=True):\n",
    "        print(f\"There are {len(directory)} images and {len(files)} inside {root}\")"
   ]
  },
  {
   "cell_type": "code",
   "execution_count": 5,
   "id": "40c8c5bc",
   "metadata": {},
   "outputs": [
    {
     "name": "stdout",
     "output_type": "stream",
     "text": [
      "There are 2 images and 1 inside data/pizza_steak_sushi\n",
      "There are 3 images and 0 inside data/pizza_steak_sushi/test\n",
      "There are 0 images and 19 inside data/pizza_steak_sushi/test/steak\n",
      "There are 0 images and 25 inside data/pizza_steak_sushi/test/pizza\n",
      "There are 0 images and 31 inside data/pizza_steak_sushi/test/sushi\n",
      "There are 3 images and 0 inside data/pizza_steak_sushi/train\n",
      "There are 0 images and 75 inside data/pizza_steak_sushi/train/steak\n",
      "There are 0 images and 78 inside data/pizza_steak_sushi/train/pizza\n",
      "There are 0 images and 72 inside data/pizza_steak_sushi/train/sushi\n"
     ]
    }
   ],
   "source": [
    "walk_through_dir(image_path)"
   ]
  },
  {
   "cell_type": "code",
   "execution_count": 6,
   "id": "75664903",
   "metadata": {},
   "outputs": [
    {
     "data": {
      "text/plain": [
       "(PosixPath('data/pizza_steak_sushi/train'),\n",
       " PosixPath('data/pizza_steak_sushi/test'))"
      ]
     },
     "execution_count": 6,
     "metadata": {},
     "output_type": "execute_result"
    }
   ],
   "source": [
    "train_dir = image_path / \"train\"\n",
    "test_dir = image_path / \"test\"\n",
    "\n",
    "train_dir, test_dir"
   ]
  },
  {
   "cell_type": "code",
   "execution_count": 7,
   "id": "b44b3548",
   "metadata": {},
   "outputs": [],
   "source": [
    "import torch\n",
    "from torch.utils.data import DataLoader\n",
    "from torchvision import datasets, transforms"
   ]
  },
  {
   "cell_type": "code",
   "execution_count": 8,
   "id": "9c60139c",
   "metadata": {},
   "outputs": [],
   "source": [
    "data_transform = transforms.Compose([\n",
    "    transforms.Resize(size=(224,224)),\n",
    "    transforms.RandomHorizontalFlip(p=0.5),\n",
    "    transforms.ToTensor()\n",
    "])"
   ]
  },
  {
   "cell_type": "code",
   "execution_count": 9,
   "id": "2a2c0725",
   "metadata": {},
   "outputs": [],
   "source": [
    "from torchvision.datasets import ImageFolder\n",
    "\n",
    "train_data = ImageFolder(root=train_dir,\n",
    "                         transform=data_transform,\n",
    "                         target_transform=None)\n",
    "\n",
    "test_data = ImageFolder(root=test_dir,\n",
    "                        transform=data_transform,\n",
    "                        target_transform = None)"
   ]
  },
  {
   "cell_type": "code",
   "execution_count": 10,
   "id": "98b12b02",
   "metadata": {},
   "outputs": [],
   "source": [
    "from torch.utils.data import DataLoader\n",
    "\n",
    "BATCH_SIZE=32\n",
    "\n",
    "train_dataloader = DataLoader(dataset=train_data,\n",
    "                              batch_size=BATCH_SIZE,\n",
    "                              shuffle=True)\n",
    "test_dataloader = DataLoader(dataset=test_data,\n",
    "                             batch_size=BATCH_SIZE,\n",
    "                             shuffle=True,\n",
    "                             )"
   ]
  },
  {
   "cell_type": "code",
   "execution_count": 11,
   "id": "da40d695",
   "metadata": {},
   "outputs": [
    {
     "data": {
      "text/plain": [
       "(torch.Size([32, 3, 224, 224]),\n",
       " torch.Size([32]),\n",
       " <function Tensor.type>,\n",
       " <function Tensor.type>,\n",
       " device(type='cpu'),\n",
       " device(type='cpu'))"
      ]
     },
     "execution_count": 11,
     "metadata": {},
     "output_type": "execute_result"
    }
   ],
   "source": [
    "img, label = next(iter(train_dataloader))\n",
    "img.shape, label.shape, img.type, label.type, img.device, label.device"
   ]
  },
  {
   "cell_type": "code",
   "execution_count": 12,
   "id": "ad1453f0",
   "metadata": {},
   "outputs": [],
   "source": [
    "class TinyVGG(nn.Module):\n",
    "    def __init__(self, in_channels: int, out_channels: int, hidden_units=32 ):\n",
    "        super().__init__()\n",
    "        self.block1 = nn.Sequential(\n",
    "            nn.Conv2d(in_channels=in_channels, out_channels=hidden_units, kernel_size=3, padding=1),\n",
    "            nn.ReLU(),\n",
    "            nn.Conv2d(in_channels=hidden_units, out_channels=hidden_units, kernel_size=3, padding=1),\n",
    "            nn.ReLU(),\n",
    "            nn.MaxPool2d(kernel_size=2, stride=2)\n",
    "        )\n",
    "        self.block2 = nn.Sequential(\n",
    "            nn.Conv2d(in_channels=hidden_units, out_channels=hidden_units, kernel_size=3, padding=1),\n",
    "            nn.ReLU(),\n",
    "            nn.Conv2d(in_channels=hidden_units, out_channels=hidden_units, kernel_size=3, padding=1),\n",
    "            nn.ReLU(),\n",
    "            nn.MaxPool2d(kernel_size=2, stride=2)\n",
    "        )\n",
    "        self.block3 = nn.Sequential(\n",
    "            nn.Conv2d(in_channels=hidden_units, out_channels=hidden_units, kernel_size=3, padding=1),\n",
    "            nn.ReLU(),\n",
    "            nn.Conv2d(in_channels=hidden_units, out_channels=hidden_units, kernel_size=3, padding=1),\n",
    "            nn.ReLU(),\n",
    "            nn.MaxPool2d(kernel_size=2, stride=2)\n",
    "        )\n",
    "        self.linear = nn.Sequential(\n",
    "            nn.Flatten(),\n",
    "            nn.Linear(in_features = hidden_units*28*28, out_features=1024),\n",
    "            nn.ReLU(),\n",
    "            nn.Linear(in_features = 1024, out_features=512),\n",
    "            nn.ReLU(),\n",
    "            nn.Linear(in_features = 512, out_features=256),\n",
    "            nn.ReLU(),\n",
    "            nn.Linear(in_features = 256, out_features=256),\n",
    "            nn.ReLU(),\n",
    "            nn.Linear(in_features = 256, out_features=out_channels)\n",
    "        )\n",
    "    def forward(self, X):\n",
    "        X = self.block1(X)\n",
    "        X = self.block2(X)\n",
    "        X = self.block3(X)\n",
    "        X = self.linear(X)\n",
    "        \n",
    "        return torch.softmax(X,dim=1)"
   ]
  },
  {
   "cell_type": "code",
   "execution_count": 13,
   "id": "83d8e9cf",
   "metadata": {},
   "outputs": [],
   "source": [
    "from torch import device\n",
    "from helper_functions import accuracy_fn\n",
    "\n",
    "\n",
    "def train_step(model: torch.nn.Module,\n",
    "               loss_fn: torch.nn.Module,\n",
    "               optimizer: torch.optim.Optimizer,\n",
    "               train_data: torch.utils.data.DataLoader,\n",
    "               device: torch.device = device,\n",
    "               ):\n",
    "    model.to(device)\n",
    "    train_loss, train_acc = 0,0\n",
    "    model.train()\n",
    "    for batch, (X,y) in enumerate(train_data):\n",
    "        X, y = X.to(device), y.to(device)\n",
    "        y_pred = model(X)\n",
    "        loss = loss_fn(y_pred, y)\n",
    "        acc = accuracy_fn(y_true= y, y_pred= y_pred.argmax(dim=1))\n",
    "        train_loss += loss\n",
    "        train_acc += acc\n",
    "        # print(f\"Looked at {batch*len(X)}/ {len(train_data.dataset)} samples\")\n",
    "    train_loss /= len(train_data.dataset)\n",
    "    train_acc /= len(train_data.dataset)\n",
    "    return train_loss, train_acc"
   ]
  },
  {
   "cell_type": "code",
   "execution_count": 14,
   "id": "b148941a",
   "metadata": {},
   "outputs": [],
   "source": [
    "def test_step(model: torch.nn.Module,\n",
    "               loss_fn: torch.nn.Module,\n",
    "               test_data: torch.utils.data.DataLoader,\n",
    "               device: torch.device = device,\n",
    "               ):\n",
    "    model.to(device)\n",
    "    test_loss, test_acc = 0,0\n",
    "    model.eval()\n",
    "    with torch.inference_mode():\n",
    "        for batch, (X,y) in enumerate(test_data):\n",
    "            X, y = X.to(device), y.to(device)\n",
    "            y_pred = model(X)\n",
    "            loss = loss_fn(y_pred, y)\n",
    "            acc = accuracy_fn(y_true= y, y_pred= y_pred.argmax(dim=1))\n",
    "            test_loss += loss\n",
    "            test_acc += acc\n",
    "        test_loss /= len(test_data.dataset)\n",
    "        test_acc /= len(test_data.dataset)\n",
    "    return test_loss, test_acc"
   ]
  },
  {
   "cell_type": "code",
   "execution_count": 16,
   "id": "0b89fd3c",
   "metadata": {},
   "outputs": [],
   "source": [
    "def train(model:torch.nn.Module,\n",
    "          loss_fn: torch.nn.Module,\n",
    "          optimizer: torch.optim.Optimizer,\n",
    "          EPOCHS: int,\n",
    "          train_data:torch.utils.data.DataLoader,\n",
    "          test_data:torch.utils.data.DataLoader,\n",
    "          device: torch.device = device):\n",
    "    results = {\n",
    "        \"train_loss\" : [],\n",
    "        \"train_acc\" : [],\n",
    "        \"test_loss\" : [],\n",
    "        \"test_acc\" : []\n",
    "    }\n",
    "    for epoch in range(EPOCHS):\n",
    "        train_loss , train_acc = train_step(model=model, \n",
    "                                            loss_fn=loss_fn,\n",
    "                                            optimizer=optimizer,\n",
    "                                            train_data=train_data,\n",
    "                                            device = device,\n",
    "                                            )\n",
    "        test_loss, test_acc = test_step(model= model,\n",
    "                                        loss_fn=loss_fn,\n",
    "                                        test_data=test_data,\n",
    "                                        device= device)\n",
    "        print(\n",
    "            f\"Epoch: {epoch+1} | \"\n",
    "            f\"train_loss: {train_loss:.4f} | \"\n",
    "            f\"train_acc: {train_acc:.4f} | \"\n",
    "            f\"test_loss: {test_loss:.4f} | \"\n",
    "            f\"test_acc: {test_acc:.4f}\"\n",
    "        )\n",
    "        results[\"train_loss\"].append(train_loss.item() if isinstance(train_loss, torch.Tensor) else train_loss)\n",
    "        results[\"train_acc\"].append(train_acc.item() if isinstance(train_acc, torch.Tensor) else train_acc)\n",
    "        results[\"test_loss\"].append(test_loss.item() if isinstance(test_loss, torch.Tensor) else test_loss)\n",
    "        results[\"test_acc\"].append(test_acc.item() if isinstance(test_acc, torch.Tensor) else test_acc)\n",
    "        \n",
    "    return results"
   ]
  },
  {
   "cell_type": "code",
   "execution_count": 17,
   "id": "8c24c7eb",
   "metadata": {},
   "outputs": [
    {
     "data": {
      "text/plain": [
       "'cuda'"
      ]
     },
     "execution_count": 17,
     "metadata": {},
     "output_type": "execute_result"
    }
   ],
   "source": [
    "device = \"cuda\" if torch.cuda.is_available() else \"cpu\"\n",
    "device"
   ]
  },
  {
   "cell_type": "code",
   "execution_count": 18,
   "id": "cc361cd6",
   "metadata": {},
   "outputs": [
    {
     "name": "stdout",
     "output_type": "stream",
     "text": [
      "Epoch: 1 | train_loss: 0.0390 | train_acc: 1.4306 | test_loss: 0.0439 | test_acc: 1.6894\n",
      "Epoch: 2 | train_loss: 0.0391 | train_acc: 1.0000 | test_loss: 0.0438 | test_acc: 1.7689\n",
      "Epoch: 3 | train_loss: 0.0390 | train_acc: 1.4306 | test_loss: 0.0438 | test_acc: 1.7689\n"
     ]
    }
   ],
   "source": [
    "model_0 = TinyVGG(in_channels=3, # number of color channels (3 for RGB) \n",
    "                  hidden_units=10, \n",
    "                  out_channels=len(train_data.classes))\n",
    "loss_fn = nn.CrossEntropyLoss()\n",
    "optimizer = torch.optim.SGD(params= model_0.parameters(),\n",
    "                            lr=0.01)\n",
    "model_0_results = train(model=model_0, \n",
    "                        train_data=train_dataloader,\n",
    "                        test_data=test_dataloader,\n",
    "                        optimizer=optimizer,\n",
    "                        loss_fn=loss_fn, \n",
    "                        EPOCHS=3,\n",
    "                        device=device)"
   ]
  },
  {
   "cell_type": "code",
   "execution_count": 22,
   "id": "c3968325",
   "metadata": {},
   "outputs": [
    {
     "data": {
      "text/plain": [
       "dict_keys(['train_loss', 'train_acc', 'test_loss', 'test_acc'])"
      ]
     },
     "execution_count": 22,
     "metadata": {},
     "output_type": "execute_result"
    }
   ],
   "source": [
    "# Check the model_0_results keys\n",
    "model_0_results.keys()"
   ]
  },
  {
   "cell_type": "code",
   "execution_count": 24,
   "id": "097fe359",
   "metadata": {},
   "outputs": [],
   "source": [
    "from ast import Dict, List\n",
    "import matplotlib.pyplot as plt\n",
    "\n",
    "def plot_loss_curves(results):\n",
    "    loss = results['train_loss']\n",
    "    test_loss = results['test_loss']\n",
    "    \n",
    "    accuracy = results['train_acc']\n",
    "    test_accuracy = results['test_acc']\n",
    "    \n",
    "    epochs = range(len(results['train_loss']))\n",
    "\n",
    "    # Setup a plot \n",
    "    plt.figure(figsize=(15, 7))\n",
    "\n",
    "    # Plot loss\n",
    "    plt.subplot(1, 2, 1)\n",
    "    plt.plot(epochs, loss, label='train_loss')\n",
    "    plt.plot(epochs, test_loss, label='test_loss')\n",
    "    plt.title('Loss')\n",
    "    plt.xlabel('Epochs')\n",
    "    plt.legend()\n",
    "\n",
    "    # Plot accuracy\n",
    "    plt.subplot(1, 2, 2)\n",
    "    plt.plot(epochs, accuracy, label='train_accuracy')\n",
    "    plt.plot(epochs, test_accuracy, label='test_accuracy')\n",
    "    plt.title('Accuracy')\n",
    "    plt.xlabel('Epochs')\n",
    "    plt.legend()"
   ]
  },
  {
   "cell_type": "code",
   "execution_count": 25,
   "id": "1d6528b6",
   "metadata": {},
   "outputs": [
    {
     "data": {
      "image/png": "[encoded data removed]",
      "text/plain": [
       "<Figure size 1500x700 with 2 Axes>"
      ]
     },
     "metadata": {},
     "output_type": "display_data"
    }
   ],
   "source": [
    "plot_loss_curves(results=model_0_results)"
   ]
  },
  {
   "cell_type": "code",
   "execution_count": 51,
   "id": "f3329cb4",
   "metadata": {},
   "outputs": [],
   "source": [
    "import torchvision\n",
    "from PIL import Image\n",
    "\n",
    "def pred_and_plot_image(model: torch.nn.Module,\n",
    "                        transforms: torchvision.transforms.Compose,\n",
    "                        img_path : str,\n",
    "                        classes,\n",
    "                        device : torch.device = device):\n",
    "    image = Image.open(img_path)\n",
    "    img = transforms(image).unsqueeze(0).to(device)\n",
    "    with torch.inference_mode():\n",
    "        \n",
    "        y_pred = model(img).to(device)\n",
    "        y_label = y_pred.argmax(dim=1)\n",
    "    for i , j in enumerate(classes):\n",
    "        if i == y_label:\n",
    "            print(f\"detected image is {j}\")\n",
    "    \n",
    "  \n",
    "  "
   ]
  },
  {
   "cell_type": "code",
   "execution_count": 52,
   "id": "0874f47c",
   "metadata": {},
   "outputs": [
    {
     "name": "stdout",
     "output_type": "stream",
     "text": [
      "detected image is sushi\n"
     ]
    }
   ],
   "source": [
    "pred_and_plot_image(model_0, transforms= data_transform, img_path=\"/home/owais/PytorchCodes/img/5764.jpg\",\n",
    "                    classes = train_data.class_to_idx,device = device)"
   ]
  },
  {
   "cell_type": "code",
   "execution_count": 53,
   "id": "506cd29f",
   "metadata": {},
   "outputs": [
    {
     "name": "stdout",
     "output_type": "stream",
     "text": [
      "Saving model to: models/04_pytorch_custom_dataset_model.pth\n"
     ]
    }
   ],
   "source": [
    "from pathlib import Path\n",
    "\n",
    "# Create models directory (if it doesn't already exist), see: https://docs.python.org/3/library/pathlib.html#pathlib.Path.mkdir\n",
    "MODEL_PATH = Path(\"models\")\n",
    "MODEL_PATH.mkdir(parents=True, # create parent directories if needed\n",
    "                 exist_ok=True # if models directory already exists, don't error\n",
    ")\n",
    "\n",
    "# Create model save path\n",
    "MODEL_NAME = \"04_pytorch_custom_dataset_model.pth\"\n",
    "MODEL_SAVE_PATH = MODEL_PATH / MODEL_NAME\n",
    "\n",
    "# Save the model state dict\n",
    "print(f\"Saving model to: {MODEL_SAVE_PATH}\")\n",
    "torch.save(obj=model_0.state_dict(), # only saving the state_dict() only saves the learned parameters\n",
    "           f=MODEL_SAVE_PATH)"
   ]
  },
  {
   "cell_type": "code",
   "execution_count": null,
   "id": "8e561b0a",
   "metadata": {},
   "outputs": [],
   "source": []
  }
 ],
 "metadata": {
  "kernelspec": {
   "display_name": "globalenv",
   "language": "python",
   "name": "python3"
  },
  "language_info": {
   "codemirror_mode": {
    "name": "ipython",
    "version": 3
   },
   "file_extension": ".py",
   "mimetype": "text/x-python",
   "name": "python",
   "nbconvert_exporter": "python",
   "pygments_lexer": "ipython3",
   "version": "3.12.3"
  }
 },
 "nbformat": 4,
 "nbformat_minor": 5
}
